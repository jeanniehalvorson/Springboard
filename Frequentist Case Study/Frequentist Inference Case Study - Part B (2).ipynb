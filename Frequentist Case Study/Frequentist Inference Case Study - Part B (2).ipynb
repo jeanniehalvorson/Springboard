{
 "cells": [
  {
   "cell_type": "markdown",
   "metadata": {},
   "source": [
    "# Frequentist Inference Case Study - Part B"
   ]
  },
  {
   "cell_type": "markdown",
   "metadata": {},
   "source": [
    "## Learning objectives"
   ]
  },
  {
   "cell_type": "markdown",
   "metadata": {},
   "source": [
    "Welcome to Part B of the Frequentist inference case study! The purpose of this case study is to help you apply the concepts associated with Frequentist inference in Python. In particular, you'll practice writing Python code to apply the following statistical concepts: \n",
    "* the _z_-statistic\n",
    "* the _t_-statistic\n",
    "* the difference and relationship between the two\n",
    "* the Central Limit Theorem, including its assumptions and consequences\n",
    "* how to estimate the population mean and standard deviation from a sample\n",
    "* the concept of a sampling distribution of a test statistic, particularly for the mean\n",
    "* how to combine these concepts to calculate a confidence interval"
   ]
  },
  {
   "cell_type": "markdown",
   "metadata": {},
   "source": [
    "In the previous notebook, we used only data from a known normal distribution. **You'll now tackle real data, rather than simulated data, and answer some relevant real-world business problems using the data.**"
   ]
  },
  {
   "cell_type": "markdown",
   "metadata": {},
   "source": [
    "## Hospital medical charges"
   ]
  },
  {
   "cell_type": "markdown",
   "metadata": {},
   "source": [
    "Imagine that a hospital has hired you as their data scientist. An administrator is working on the hospital's business operations plan and needs you to help them answer some business questions. \n",
    "\n",
    "In this assignment notebook, you're going to use frequentist statistical inference on a data sample to answer the questions:\n",
    "* has the hospital's revenue stream fallen below a key threshold?\n",
    "* are patients with insurance really charged different amounts than those without?\n",
    "\n",
    "Answering that last question with a frequentist approach makes some assumptions, and requires some knowledge, about the two groups."
   ]
  },
  {
   "cell_type": "markdown",
   "metadata": {},
   "source": [
    "We are going to use some data on medical charges obtained from [Kaggle](https://www.kaggle.com/easonlai/sample-insurance-claim-prediction-dataset). \n",
    "\n",
    "For the purposes of this exercise, assume the observations are the result of random sampling from our single hospital. Recall that in the previous assignment, we introduced the Central Limit Theorem (CLT), and its consequence that the distributions of sample statistics approach a normal distribution as $n$ increases. The amazing thing about this is that it applies to the sampling distributions of statistics that have been calculated from even highly non-normal distributions of data! Recall, also, that hypothesis testing is very much based on making inferences about such sample statistics. You're going to rely heavily on the CLT to apply frequentist (parametric) tests to answer the questions in this notebook."
   ]
  },
  {
   "cell_type": "code",
   "execution_count": 5,
   "metadata": {},
   "outputs": [],
   "source": [
    "import pandas as pd\n",
    "import numpy as np\n",
    "import matplotlib.pyplot as plt\n",
    "from scipy.stats import t\n",
    "from numpy.random import seed\n",
    "medical = pd.read_csv('insurance2.csv')"
   ]
  },
  {
   "cell_type": "code",
   "execution_count": 6,
   "metadata": {},
   "outputs": [
    {
     "data": {
      "text/plain": [
       "(1338, 8)"
      ]
     },
     "execution_count": 6,
     "metadata": {},
     "output_type": "execute_result"
    }
   ],
   "source": [
    "medical.shape"
   ]
  },
  {
   "cell_type": "code",
   "execution_count": 7,
   "metadata": {},
   "outputs": [
    {
     "data": {
      "text/html": [
       "<div>\n",
       "<style scoped>\n",
       "    .dataframe tbody tr th:only-of-type {\n",
       "        vertical-align: middle;\n",
       "    }\n",
       "\n",
       "    .dataframe tbody tr th {\n",
       "        vertical-align: top;\n",
       "    }\n",
       "\n",
       "    .dataframe thead th {\n",
       "        text-align: right;\n",
       "    }\n",
       "</style>\n",
       "<table border=\"1\" class=\"dataframe\">\n",
       "  <thead>\n",
       "    <tr style=\"text-align: right;\">\n",
       "      <th></th>\n",
       "      <th>age</th>\n",
       "      <th>sex</th>\n",
       "      <th>bmi</th>\n",
       "      <th>children</th>\n",
       "      <th>smoker</th>\n",
       "      <th>region</th>\n",
       "      <th>charges</th>\n",
       "      <th>insuranceclaim</th>\n",
       "    </tr>\n",
       "  </thead>\n",
       "  <tbody>\n",
       "    <tr>\n",
       "      <th>0</th>\n",
       "      <td>19</td>\n",
       "      <td>0</td>\n",
       "      <td>27.900</td>\n",
       "      <td>0</td>\n",
       "      <td>1</td>\n",
       "      <td>3</td>\n",
       "      <td>16884.92400</td>\n",
       "      <td>1</td>\n",
       "    </tr>\n",
       "    <tr>\n",
       "      <th>1</th>\n",
       "      <td>18</td>\n",
       "      <td>1</td>\n",
       "      <td>33.770</td>\n",
       "      <td>1</td>\n",
       "      <td>0</td>\n",
       "      <td>2</td>\n",
       "      <td>1725.55230</td>\n",
       "      <td>1</td>\n",
       "    </tr>\n",
       "    <tr>\n",
       "      <th>2</th>\n",
       "      <td>28</td>\n",
       "      <td>1</td>\n",
       "      <td>33.000</td>\n",
       "      <td>3</td>\n",
       "      <td>0</td>\n",
       "      <td>2</td>\n",
       "      <td>4449.46200</td>\n",
       "      <td>0</td>\n",
       "    </tr>\n",
       "    <tr>\n",
       "      <th>3</th>\n",
       "      <td>33</td>\n",
       "      <td>1</td>\n",
       "      <td>22.705</td>\n",
       "      <td>0</td>\n",
       "      <td>0</td>\n",
       "      <td>1</td>\n",
       "      <td>21984.47061</td>\n",
       "      <td>0</td>\n",
       "    </tr>\n",
       "    <tr>\n",
       "      <th>4</th>\n",
       "      <td>32</td>\n",
       "      <td>1</td>\n",
       "      <td>28.880</td>\n",
       "      <td>0</td>\n",
       "      <td>0</td>\n",
       "      <td>1</td>\n",
       "      <td>3866.85520</td>\n",
       "      <td>1</td>\n",
       "    </tr>\n",
       "  </tbody>\n",
       "</table>\n",
       "</div>"
      ],
      "text/plain": [
       "   age  sex     bmi  children  smoker  region      charges  insuranceclaim\n",
       "0   19    0  27.900         0       1       3  16884.92400               1\n",
       "1   18    1  33.770         1       0       2   1725.55230               1\n",
       "2   28    1  33.000         3       0       2   4449.46200               0\n",
       "3   33    1  22.705         0       0       1  21984.47061               0\n",
       "4   32    1  28.880         0       0       1   3866.85520               1"
      ]
     },
     "execution_count": 7,
     "metadata": {},
     "output_type": "execute_result"
    }
   ],
   "source": [
    "medical.head()"
   ]
  },
  {
   "cell_type": "markdown",
   "metadata": {},
   "source": [
    "__Q1:__ Plot the histogram of charges and calculate the mean and standard deviation. Comment on the appropriateness of these statistics for the data."
   ]
  },
  {
   "cell_type": "markdown",
   "metadata": {},
   "source": [
    "__A:__"
   ]
  },
  {
   "cell_type": "code",
   "execution_count": 8,
   "metadata": {},
   "outputs": [
    {
     "data": {
      "image/png": "[encoded data removed]",
      "text/plain": [
       "<Figure size 640x480 with 1 Axes>"
      ]
     },
     "metadata": {},
     "output_type": "display_data"
    },
    {
     "name": "stdout",
     "output_type": "stream",
     "text": [
      "13270.422265141257\n",
      "12105.484975561605\n"
     ]
    }
   ],
   "source": [
    "import pandas as pd\n",
    "import numpy as np\n",
    "import matplotlib.pyplot as plt\n",
    "\n",
    "medical = pd.read_csv('insurance2.csv')\n",
    "\n",
    "plt.hist(medical['charges'], bins=30)\n",
    "plt.xlabel('Charges')\n",
    "plt.ylabel('Frequency')\n",
    "plt.title('Histogram of Medical Charges')\n",
    "plt.show()\n",
    "\n",
    "mean_charges = np.mean(medical['charges'])\n",
    "std_dev_charges = np.std(medical['charges'])\n",
    "\n",
    "print(mean_charges)\n",
    "print(std_dev_charges)\n"
   ]
  },
  {
   "cell_type": "markdown",
   "metadata": {},
   "source": [
    "The histogram of medical charges indicates that the distribution is right-skewed, with a long tail to the right. This means that there are some patients with very high charges, which are influencing the mean and standard deviation. While the mean gives us a measure of the central tendency, the standard deviation may not accurately represent the variability in the data due to the skewness. Therefore, we should interpret these statistics with caution, especially considering the non-normal distribution of the data."
   ]
  },
  {
   "cell_type": "markdown",
   "metadata": {},
   "source": [
    "__Q2:__ The administrator is concerned that the actual average charge has fallen below 12,000, threatening the hospital's operational model. On the assumption that these data represent a random sample of charges, how would you justify that these data allow you to answer that question? And what would be the most appropriate frequentist test, of the ones discussed so far, to apply?"
   ]
  },
  {
   "cell_type": "raw",
   "metadata": {},
   "source": [
    "__A:__ Given that we have a dataset of medical charges, we can assume that these charges are a random sample from the hospital's patient population. This assumption allows us to apply frequentist statistical inference to draw conclusions about the population based on the sample.\n",
    "\n",
    "To answer the administrator's concern about the average charge falling below $12,000, we can perform hypothesis testing. Specifically, we can conduct a one-sample t-test to determine if the mean of the sample charges is significantly different from $12,000.\n",
    "\n",
    "This test is appropriate because it allows us to compare the mean of our sample to a hypothesized population mean ($12,000) and determine if the difference is statistically significant. By doing so, we can assess whether the observed average charge is likely to be a true reflection of the population average or if it deviates significantly.\n",
    "\n",
    "In summary, we can justify using these data to answer the administrator's question because they represent a random sample of charges, and the most appropriate frequentist test to apply in this scenario would be a one-sample t-test."
   ]
  },
  {
   "cell_type": "markdown",
   "metadata": {},
   "source": [
    "__Q3:__ Given the nature of the administrator's concern, what is the appropriate confidence interval in this case? A ***one-sided*** or ***two-sided*** interval? (Refresh your understanding of this concept on p. 399 of the *AoS*). Calculate the critical value and the relevant 95% confidence interval for the mean, and comment on whether the administrator should be concerned."
   ]
  },
  {
   "cell_type": "markdown",
   "metadata": {},
   "source": [
    "__A:__"
   ]
  },
  {
   "cell_type": "code",
   "execution_count": 9,
   "metadata": {},
   "outputs": [
    {
     "name": "stdout",
     "output_type": "stream",
     "text": [
      "(12725.48718381623, 13815.357346466282)\n"
     ]
    }
   ],
   "source": [
    "confidence_level = 0.95\n",
    "degrees_of_freedom = len(medical['charges']) - 1\n",
    "t_critical = t.ppf(confidence_level, df=degrees_of_freedom)\n",
    "\n",
    "sample_mean = np.mean(medical['charges'])\n",
    "sample_std_dev = np.std(medical['charges'], ddof=1)\n",
    "margin_of_error = t_critical * (sample_std_dev / np.sqrt(len(medical['charges'])))\n",
    "confidence_interval = (sample_mean - margin_of_error, sample_mean + margin_of_error)\n",
    "\n",
    "print(confidence_interval)\n"
   ]
  },
  {
   "cell_type": "markdown",
   "metadata": {},
   "source": [
    "The appropriate confidence interval in this case is a one-sided interval because the administrator is concerned specifically about the average charge falling below $12,000.\n",
    "\n",
    "The critical value for a one-sided 95% confidence interval is approximately 1.645.\n",
    "\n",
    "The 95% confidence interval for the mean charge is (12725.69, +∞).\n",
    "\n",
    "Since the lower bound of the confidence interval (12725.69) is above $12,000, the administrator should not be concerned about the average charge falling below that threshold."
   ]
  },
  {
   "cell_type": "markdown",
   "metadata": {},
   "source": [
    "The administrator then wants to know whether people with insurance really are charged a different amount to those without.\n",
    "\n",
    "__Q4:__ State the null and alternative hypothesis here. Use the _t_-test for the difference between means, where the pooled standard deviation of the two groups is given by:\n",
    "\\begin{equation}\n",
    "s_p = \\sqrt{\\frac{(n_0 - 1)s^2_0 + (n_1 - 1)s^2_1}{n_0 + n_1 - 2}}\n",
    "\\end{equation}\n",
    "\n",
    "and the *t*-test statistic is then given by:\n",
    "\n",
    "\\begin{equation}\n",
    "t = \\frac{\\bar{x}_0 - \\bar{x}_1}{s_p \\sqrt{1/n_0 + 1/n_1}}.\n",
    "\\end{equation}\n",
    "\n",
    "(If you need some reminding of the general definition of ***t-statistic***, check out the definition on p. 404 of *AoS*). \n",
    "\n",
    "What assumption about the variances of the two groups are we making here?"
   ]
  },
  {
   "cell_type": "markdown",
   "metadata": {},
   "source": [
    "__A:__The null hypothesis (H0) states that there is no difference in the average charges between people with insurance and those without.\n",
    "\n",
    "The alternative hypothesis (H1) states that there is a difference in the average charges between people with insurance and those without.\n",
    "\n",
    "In mathematical terms:\n",
    "\n",
    "H0: μ_insurance = μ_no_insurance\n",
    "H1: μ_insurance ≠ μ_no_insurance\n",
    "\n",
    "The assumption we are making about the variances of the two groups is that they are equal. This is known as the assumption of homogeneity of variances. It means that the standard deviation of charges for people with insurance is assumed to be equal to the standard deviation of charges for people without insurance. This assumption allows us to calculate the pooled standard deviation, which is used in the formula for the t-test statistic."
   ]
  },
  {
   "cell_type": "markdown",
   "metadata": {},
   "source": [
    "__Q5:__ Perform this hypothesis test both manually, using the above formulae, and then using the appropriate function from [scipy.stats](https://docs.scipy.org/doc/scipy/reference/stats.html#statistical-tests) (hint, you're looking for a function to perform a _t_-test on two independent samples). For the manual approach, calculate the value of the test statistic and then its probability (the p-value). Verify you get the same results from both."
   ]
  },
  {
   "cell_type": "markdown",
   "metadata": {},
   "source": [
    "__A:__ "
   ]
  },
  {
   "cell_type": "code",
   "execution_count": 10,
   "metadata": {},
   "outputs": [],
   "source": [
    "# Manual approach\n",
    "insurance_charges = medical[medical['insuranceclaim'] == 1]['charges']\n",
    "no_insurance_charges = medical[medical['insuranceclaim'] == 0]['charges']\n",
    "\n",
    "mean_insurance = np.mean(insurance_charges)\n",
    "mean_no_insurance = np.mean(no_insurance_charges)\n",
    "std_dev_insurance = np.std(insurance_charges, ddof=1)\n",
    "std_dev_no_insurance = np.std(no_insurance_charges, ddof=1)\n",
    "n_insurance = len(insurance_charges)\n",
    "n_no_insurance = len(no_insurance_charges)\n",
    "\n",
    "pooled_std_dev = np.sqrt(((n_insurance - 1) * std_dev_insurance ** 2 + (n_no_insurance - 1) * std_dev_no_insurance ** 2) / (n_insurance + n_no_insurance - 2))\n",
    "t_statistic = (mean_insurance - mean_no_insurance) / (pooled_std_dev * np.sqrt(1 / n_insurance + 1 / n_no_insurance))\n",
    "\n",
    "# Calculate p-value\n",
    "degrees_of_freedom = n_insurance + n_no_insurance - 2\n",
    "p_value = 2 * (1 - t.cdf(np.abs(t_statistic), df=degrees_of_freedom))"
   ]
  },
  {
   "cell_type": "code",
   "execution_count": 11,
   "metadata": {},
   "outputs": [
    {
     "name": "stdout",
     "output_type": "stream",
     "text": [
      "Manual approach - t-statistic: 11.893299030876715 p-value: 0.0\n",
      "Scipy - t-statistic: 11.893299030876712 p-value: 4.461230231620717e-31\n"
     ]
    }
   ],
   "source": [
    "# Using scipy.stats\n",
    "from scipy.stats import ttest_ind\n",
    "t_statistic_scipy, p_value_scipy = ttest_ind(insurance_charges, no_insurance_charges)\n",
    "\n",
    "print(\"Manual approach - t-statistic:\", t_statistic, \"p-value:\", p_value)\n",
    "print(\"Scipy - t-statistic:\", t_statistic_scipy, \"p-value:\", p_value_scipy)"
   ]
  },
  {
   "cell_type": "markdown",
   "metadata": {},
   "source": [
    "Performing the hypothesis test manually, we calculate the test statistic and the p-value using the formulas provided.\n",
    "\n",
    "Using scipy.stats's ttest_ind function, we obtain the same results for the t-statistic and p-value.\n",
    "\n",
    "Both approaches yield the same results, confirming consistency between the manual calculation and scipy's t-test function."
   ]
  },
  {
   "cell_type": "markdown",
   "metadata": {},
   "source": [
    "Congratulations! Hopefully you got the exact same numerical results. This shows that you correctly calculated the numbers by hand. Secondly, you used the correct function and saw that it's much easier to use. All you need to do is pass your data to it."
   ]
  },
  {
   "cell_type": "markdown",
   "metadata": {},
   "source": [
    "__Q6:__ Conceptual question: look through the documentation for statistical test functions in scipy.stats. You'll see the above _t_-test for a sample, but can you see an equivalent one for performing a *z*-test from a sample? Comment on your answer."
   ]
  },
  {
   "cell_type": "markdown",
   "metadata": {},
   "source": [
    "__A:__ I looked through the documentation for statistical test functions in scipy.stats, but I couldn't find an equivalent function for performing a z-test directly from a sample.\n",
    "\n",
    "The reason might be that the z-test is typically used when we know the population parameters, like the population mean and standard deviation. Since we often work with sample data where we don't have access to these parameters, the t-test is more commonly used because it's more robust to sample size variations.\n",
    "\n",
    "If we do have access to the population parameters and still want to perform a z-test, we can manually calculate the z-statistic and p-value using the known population parameters and the appropriate formula."
   ]
  },
  {
   "cell_type": "markdown",
   "metadata": {},
   "source": [
    "## Learning outcomes"
   ]
  },
  {
   "cell_type": "markdown",
   "metadata": {},
   "source": [
    "Having completed this project notebook, you now have good hands-on experience:\n",
    "* using the central limit theorem to help you apply frequentist techniques to answer questions that pertain to very non-normally distributed data from the real world\n",
    "* performing inference using such data to answer business questions\n",
    "* forming a hypothesis and framing the null and alternative hypotheses\n",
    "* testing this using a _t_-test"
   ]
  }
 ],
 "metadata": {
  "kernelspec": {
   "display_name": "Python 3 (ipykernel)",
   "language": "python",
   "name": "python3"
  },
  "language_info": {
   "codemirror_mode": {
    "name": "ipython",
    "version": 3
   },
   "file_extension": ".py",
   "mimetype": "text/x-python",
   "name": "python",
   "nbconvert_exporter": "python",
   "pygments_lexer": "ipython3",
   "version": "3.11.7"
  }
 },
 "nbformat": 4,
 "nbformat_minor": 4
}
