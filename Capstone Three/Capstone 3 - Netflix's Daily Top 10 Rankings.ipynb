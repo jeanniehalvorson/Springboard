{
 "cells": [
  {
   "cell_type": "markdown",
   "id": "6e7b0739-c8c7-464b-8a33-6687eaa9aa6a",
   "metadata": {},
   "source": [
    "# Trends and Predictions in Netflix's Daily Top 10 Rankings"
   ]
  },
  {
   "cell_type": "markdown",
   "id": "59204d61-a734-43ef-8db9-6d18c5cd7953",
   "metadata": {},
   "source": [
    "## Data Wrangling"
   ]
  },
  {
   "cell_type": "markdown",
   "id": "0c7609b0-8d4b-47bd-a0d2-c0f24cc25143",
   "metadata": {},
   "source": [
    "In this section, we will prepare our dataset for analysis by addressing inconsistencies and ensuring data quality. The dataset includes Netflix's daily top 10 rankings for movies and TV shows in the United States from 2020 to March 2022, featuring attributes like title, release date, type, and viewership metrics.\n",
    "\n",
    "Our focus will be on handling missing values, standardizing data types, and rectifying anomalies to ensure the data is clean and consistent. This foundational step is crucial for accurate analysis and model building, enabling us to explore trends, identify key factors influencing viewership scores, and develop predictive models to forecast rankings."
   ]
  },
  {
   "cell_type": "code",
   "execution_count": 1,
   "id": "d86035d1-d153-4823-b19d-a0154cb874d4",
   "metadata": {},
   "outputs": [],
   "source": [
    "# Import necessary libraries\n",
    "import pandas as pd\n",
    "import numpy as np\n",
    "import matplotlib.pyplot as plt\n",
    "import seaborn as sns\n",
    "from datetime import datetime"
   ]
  },
  {
   "cell_type": "code",
   "execution_count": 3,
   "id": "c61204ef-2a1d-4ccf-ac5e-fced177c5cc6",
   "metadata": {},
   "outputs": [
    {
     "data": {
      "text/html": [
       "<div>\n",
       "<style scoped>\n",
       "    .dataframe tbody tr th:only-of-type {\n",
       "        vertical-align: middle;\n",
       "    }\n",
       "\n",
       "    .dataframe tbody tr th {\n",
       "        vertical-align: top;\n",
       "    }\n",
       "\n",
       "    .dataframe thead th {\n",
       "        text-align: right;\n",
       "    }\n",
       "</style>\n",
       "<table border=\"1\" class=\"dataframe\">\n",
       "  <thead>\n",
       "    <tr style=\"text-align: right;\">\n",
       "      <th></th>\n",
       "      <th>As of</th>\n",
       "      <th>Rank</th>\n",
       "      <th>Year to Date Rank</th>\n",
       "      <th>Last Week Rank</th>\n",
       "      <th>Title</th>\n",
       "      <th>Type</th>\n",
       "      <th>Netflix Exclusive</th>\n",
       "      <th>Netflix Release Date</th>\n",
       "      <th>Days In Top 10</th>\n",
       "      <th>Viewership Score</th>\n",
       "    </tr>\n",
       "  </thead>\n",
       "  <tbody>\n",
       "    <tr>\n",
       "      <th>0</th>\n",
       "      <td>2020-04-01</td>\n",
       "      <td>1</td>\n",
       "      <td>1</td>\n",
       "      <td>1</td>\n",
       "      <td>Tiger King: Murder, Mayhem …</td>\n",
       "      <td>TV Show</td>\n",
       "      <td>Yes</td>\n",
       "      <td>Mar 20, 2020</td>\n",
       "      <td>9</td>\n",
       "      <td>90</td>\n",
       "    </tr>\n",
       "    <tr>\n",
       "      <th>1</th>\n",
       "      <td>2020-04-01</td>\n",
       "      <td>2</td>\n",
       "      <td>2</td>\n",
       "      <td>-</td>\n",
       "      <td>Ozark</td>\n",
       "      <td>TV Show</td>\n",
       "      <td>Yes</td>\n",
       "      <td>Jul 21, 2017</td>\n",
       "      <td>5</td>\n",
       "      <td>45</td>\n",
       "    </tr>\n",
       "    <tr>\n",
       "      <th>2</th>\n",
       "      <td>2020-04-01</td>\n",
       "      <td>3</td>\n",
       "      <td>3</td>\n",
       "      <td>2</td>\n",
       "      <td>All American</td>\n",
       "      <td>TV Show</td>\n",
       "      <td>NaN</td>\n",
       "      <td>Mar 28, 2019</td>\n",
       "      <td>9</td>\n",
       "      <td>76</td>\n",
       "    </tr>\n",
       "    <tr>\n",
       "      <th>3</th>\n",
       "      <td>2020-04-01</td>\n",
       "      <td>4</td>\n",
       "      <td>4</td>\n",
       "      <td>-</td>\n",
       "      <td>Blood Father</td>\n",
       "      <td>Movie</td>\n",
       "      <td>NaN</td>\n",
       "      <td>Mar 26, 2020</td>\n",
       "      <td>5</td>\n",
       "      <td>30</td>\n",
       "    </tr>\n",
       "    <tr>\n",
       "      <th>4</th>\n",
       "      <td>2020-04-01</td>\n",
       "      <td>5</td>\n",
       "      <td>5</td>\n",
       "      <td>4</td>\n",
       "      <td>The Platform</td>\n",
       "      <td>Movie</td>\n",
       "      <td>Yes</td>\n",
       "      <td>Mar 20, 2020</td>\n",
       "      <td>9</td>\n",
       "      <td>55</td>\n",
       "    </tr>\n",
       "  </tbody>\n",
       "</table>\n",
       "</div>"
      ],
      "text/plain": [
       "        As of  Rank Year to Date Rank Last Week Rank  \\\n",
       "0  2020-04-01     1                 1              1   \n",
       "1  2020-04-01     2                 2              -   \n",
       "2  2020-04-01     3                 3              2   \n",
       "3  2020-04-01     4                 4              -   \n",
       "4  2020-04-01     5                 5              4   \n",
       "\n",
       "                          Title     Type Netflix Exclusive  \\\n",
       "0  Tiger King: Murder, Mayhem …  TV Show               Yes   \n",
       "1                         Ozark  TV Show               Yes   \n",
       "2                  All American  TV Show               NaN   \n",
       "3                  Blood Father    Movie               NaN   \n",
       "4                  The Platform    Movie               Yes   \n",
       "\n",
       "  Netflix Release Date  Days In Top 10  Viewership Score  \n",
       "0         Mar 20, 2020               9                90  \n",
       "1         Jul 21, 2017               5                45  \n",
       "2         Mar 28, 2019               9                76  \n",
       "3         Mar 26, 2020               5                30  \n",
       "4         Mar 20, 2020               9                55  "
      ]
     },
     "execution_count": 3,
     "metadata": {},
     "output_type": "execute_result"
    }
   ],
   "source": [
    "# Load the dataset\n",
    "df = pd.read_csv('netflix daily top 10.csv')\n",
    "\n",
    "# Display the first few rows of the dataframe\n",
    "df.head()\n"
   ]
  },
  {
   "cell_type": "code",
   "execution_count": 4,
   "id": "e1a369cb-a1b2-4790-aba5-5defd6fea1cd",
   "metadata": {},
   "outputs": [
    {
     "name": "stdout",
     "output_type": "stream",
     "text": [
      "Number of duplicate rows: 0\n"
     ]
    }
   ],
   "source": [
    "# Check for duplicate rows\n",
    "duplicates = df.duplicated()\n",
    "print(f\"Number of duplicate rows: {duplicates.sum()}\")\n",
    "\n",
    "# Drop duplicates if any\n",
    "df = df.drop_duplicates()\n"
   ]
  },
  {
   "cell_type": "code",
   "execution_count": 10,
   "id": "f5f438ca-1ad5-4291-9f85-7bb1763d0097",
   "metadata": {},
   "outputs": [
    {
     "name": "stdout",
     "output_type": "stream",
     "text": [
      "<class 'pandas.core.frame.DataFrame'>\n",
      "RangeIndex: 7100 entries, 0 to 7099\n",
      "Data columns (total 10 columns):\n",
      " #   Column                Non-Null Count  Dtype         \n",
      "---  ------                --------------  -----         \n",
      " 0   As of                 7100 non-null   datetime64[ns]\n",
      " 1   Rank                  7100 non-null   int64         \n",
      " 2   Year to Date Rank     7100 non-null   object        \n",
      " 3   Last Week Rank        7100 non-null   object        \n",
      " 4   Title                 7100 non-null   object        \n",
      " 5   Type                  7100 non-null   object        \n",
      " 6   Netflix Exclusive     4599 non-null   object        \n",
      " 7   Netflix Release Date  7100 non-null   datetime64[ns]\n",
      " 8   Days In Top 10        7100 non-null   int64         \n",
      " 9   Viewership Score      7100 non-null   int64         \n",
      "dtypes: datetime64[ns](2), int64(3), object(5)\n",
      "memory usage: 554.8+ KB\n"
     ]
    }
   ],
   "source": [
    "# Check data types and basic statistics\n",
    "df.info()"
   ]
  },
  {
   "cell_type": "code",
   "execution_count": 11,
   "id": "9cbbc8f8-5e51-4990-a54e-00e1da2a97bc",
   "metadata": {},
   "outputs": [
    {
     "data": {
      "text/html": [
       "<div>\n",
       "<style scoped>\n",
       "    .dataframe tbody tr th:only-of-type {\n",
       "        vertical-align: middle;\n",
       "    }\n",
       "\n",
       "    .dataframe tbody tr th {\n",
       "        vertical-align: top;\n",
       "    }\n",
       "\n",
       "    .dataframe thead th {\n",
       "        text-align: right;\n",
       "    }\n",
       "</style>\n",
       "<table border=\"1\" class=\"dataframe\">\n",
       "  <thead>\n",
       "    <tr style=\"text-align: right;\">\n",
       "      <th></th>\n",
       "      <th>As of</th>\n",
       "      <th>Rank</th>\n",
       "      <th>Netflix Release Date</th>\n",
       "      <th>Days In Top 10</th>\n",
       "      <th>Viewership Score</th>\n",
       "    </tr>\n",
       "  </thead>\n",
       "  <tbody>\n",
       "    <tr>\n",
       "      <th>count</th>\n",
       "      <td>7100</td>\n",
       "      <td>7100.000000</td>\n",
       "      <td>7100</td>\n",
       "      <td>7100.000000</td>\n",
       "      <td>7100.000000</td>\n",
       "    </tr>\n",
       "    <tr>\n",
       "      <th>mean</th>\n",
       "      <td>2021-03-21 12:00:00.000000256</td>\n",
       "      <td>5.500000</td>\n",
       "      <td>2020-06-21 08:05:32.619718144</td>\n",
       "      <td>24.123662</td>\n",
       "      <td>122.790141</td>\n",
       "    </tr>\n",
       "    <tr>\n",
       "      <th>min</th>\n",
       "      <td>2020-04-01 00:00:00</td>\n",
       "      <td>1.000000</td>\n",
       "      <td>2007-01-15 00:00:00</td>\n",
       "      <td>1.000000</td>\n",
       "      <td>1.000000</td>\n",
       "    </tr>\n",
       "    <tr>\n",
       "      <th>25%</th>\n",
       "      <td>2020-09-25 00:00:00</td>\n",
       "      <td>3.000000</td>\n",
       "      <td>2020-04-26 00:00:00</td>\n",
       "      <td>3.000000</td>\n",
       "      <td>19.000000</td>\n",
       "    </tr>\n",
       "    <tr>\n",
       "      <th>50%</th>\n",
       "      <td>2021-03-21 12:00:00</td>\n",
       "      <td>5.500000</td>\n",
       "      <td>2020-10-02 00:00:00</td>\n",
       "      <td>7.000000</td>\n",
       "      <td>50.000000</td>\n",
       "    </tr>\n",
       "    <tr>\n",
       "      <th>75%</th>\n",
       "      <td>2021-09-15 00:00:00</td>\n",
       "      <td>8.000000</td>\n",
       "      <td>2021-05-14 00:00:00</td>\n",
       "      <td>18.000000</td>\n",
       "      <td>128.000000</td>\n",
       "    </tr>\n",
       "    <tr>\n",
       "      <th>max</th>\n",
       "      <td>2022-03-11 00:00:00</td>\n",
       "      <td>10.000000</td>\n",
       "      <td>2022-03-04 00:00:00</td>\n",
       "      <td>428.000000</td>\n",
       "      <td>1474.000000</td>\n",
       "    </tr>\n",
       "    <tr>\n",
       "      <th>std</th>\n",
       "      <td>NaN</td>\n",
       "      <td>2.872484</td>\n",
       "      <td>NaN</td>\n",
       "      <td>58.473789</td>\n",
       "      <td>213.861642</td>\n",
       "    </tr>\n",
       "  </tbody>\n",
       "</table>\n",
       "</div>"
      ],
      "text/plain": [
       "                               As of         Rank  \\\n",
       "count                           7100  7100.000000   \n",
       "mean   2021-03-21 12:00:00.000000256     5.500000   \n",
       "min              2020-04-01 00:00:00     1.000000   \n",
       "25%              2020-09-25 00:00:00     3.000000   \n",
       "50%              2021-03-21 12:00:00     5.500000   \n",
       "75%              2021-09-15 00:00:00     8.000000   \n",
       "max              2022-03-11 00:00:00    10.000000   \n",
       "std                              NaN     2.872484   \n",
       "\n",
       "                Netflix Release Date  Days In Top 10  Viewership Score  \n",
       "count                           7100     7100.000000       7100.000000  \n",
       "mean   2020-06-21 08:05:32.619718144       24.123662        122.790141  \n",
       "min              2007-01-15 00:00:00        1.000000          1.000000  \n",
       "25%              2020-04-26 00:00:00        3.000000         19.000000  \n",
       "50%              2020-10-02 00:00:00        7.000000         50.000000  \n",
       "75%              2021-05-14 00:00:00       18.000000        128.000000  \n",
       "max              2022-03-04 00:00:00      428.000000       1474.000000  \n",
       "std                              NaN       58.473789        213.861642  "
      ]
     },
     "execution_count": 11,
     "metadata": {},
     "output_type": "execute_result"
    }
   ],
   "source": [
    "df.describe()"
   ]
  },
  {
   "cell_type": "code",
   "execution_count": 13,
   "id": "756829cb-bdff-45ed-a66f-656a33642454",
   "metadata": {},
   "outputs": [],
   "source": [
    "# Check for any syntactic rule violations (e.g., date format)\n",
    "# Convert 'As of' column to datetime\n",
    "df['As of'] = pd.to_datetime(df['As of'], format='%Y-%m-%d')\n",
    "\n",
    "# Ensure 'Netflix Release Date' follows the same format\n",
    "df['Netflix Release Date'] = pd.to_datetime(df['Netflix Release Date'], errors='coerce')\n",
    "\n",
    "# Check for any semantic rule violations\n",
    "# Ensure 'Rank' is between 1 and 10\n",
    "assert df['Rank'].between(1, 10).all(), \"Rank column contains values outside 1-10\""
   ]
  },
  {
   "cell_type": "code",
   "execution_count": 14,
   "id": "0fc807c6-181e-4e91-98b2-4a41d4332f5a",
   "metadata": {},
   "outputs": [
    {
     "name": "stdout",
     "output_type": "stream",
     "text": [
      "Missing values in each column:\n",
      " As of                      0\n",
      "Rank                       0\n",
      "Year to Date Rank          0\n",
      "Last Week Rank             0\n",
      "Title                      0\n",
      "Type                       0\n",
      "Netflix Exclusive       2501\n",
      "Netflix Release Date       0\n",
      "Days In Top 10             0\n",
      "Viewership Score           0\n",
      "dtype: int64\n"
     ]
    }
   ],
   "source": [
    "# Check for missing values\n",
    "missing_values = df.isnull().sum()\n",
    "print(\"Missing values in each column:\\n\", missing_values)\n"
   ]
  },
  {
   "cell_type": "code",
   "execution_count": 17,
   "id": "933165c1-8d58-484c-a223-729713c3c205",
   "metadata": {},
   "outputs": [
    {
     "name": "stdout",
     "output_type": "stream",
     "text": [
      "Percentage of missing values in 'Netflix Exclusive': 35.23%\n"
     ]
    }
   ],
   "source": [
    "# Check the percentage of missing values in 'Netflix Exclusive'\n",
    "missing_percentage = df['Netflix Exclusive'].isnull().mean() * 100\n",
    "print(f\"Percentage of missing values in 'Netflix Exclusive': {missing_percentage:.2f}%\")\n"
   ]
  },
  {
   "cell_type": "code",
   "execution_count": 18,
   "id": "e140211f-cb19-40a7-864f-29f5c6728708",
   "metadata": {},
   "outputs": [
    {
     "name": "stdout",
     "output_type": "stream",
     "text": [
      "Missing values in 'Netflix Exclusive' after imputation: 0\n"
     ]
    }
   ],
   "source": [
    "# Fill missing values in 'Netflix Exclusive' with the mode\n",
    "mode_value = df['Netflix Exclusive'].mode()[0]\n",
    "df['Netflix Exclusive'].fillna(mode_value, inplace=True)\n",
    "\n",
    "# Verify there are no more missing values\n",
    "missing_values_after = df['Netflix Exclusive'].isnull().sum()\n",
    "print(f\"Missing values in 'Netflix Exclusive' after imputation: {missing_values_after}\")\n"
   ]
  },
  {
   "cell_type": "markdown",
   "id": "90446d67-5a58-4389-963f-489388e46e4a",
   "metadata": {},
   "source": [
    "#### Summary\n",
    "\n",
    "In this data wrangling section, we systematically prepared the Netflix daily top 10 rankings dataset for analysis. We started by loading the dataset and inspecting its initial structure, followed by removing duplicate rows to ensure data integrity. We then checked and corrected data types, particularly for date columns, and verified that the 'Rank' column contained valid values between 1 and 10. To handle missing values in the \"Netflix Exclusive\" column, which had 35.23% missing data, we imputed the missing entries with the column's mode. These steps ensured that our dataset is clean, consistent, and ready for further analysis."
   ]
  },
  {
   "cell_type": "code",
   "execution_count": null,
   "id": "db8567b3-165f-42e7-b1f1-6df1b58ac5b4",
   "metadata": {},
   "outputs": [],
   "source": []
  }
 ],
 "metadata": {
  "kernelspec": {
   "display_name": "Python 3 (ipykernel)",
   "language": "python",
   "name": "python3"
  },
  "language_info": {
   "codemirror_mode": {
    "name": "ipython",
    "version": 3
   },
   "file_extension": ".py",
   "mimetype": "text/x-python",
   "name": "python",
   "nbconvert_exporter": "python",
   "pygments_lexer": "ipython3",
   "version": "3.11.7"
  }
 },
 "nbformat": 4,
 "nbformat_minor": 5
}
