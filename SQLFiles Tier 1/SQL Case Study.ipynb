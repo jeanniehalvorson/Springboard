{
 "cells": [
  {
   "cell_type": "markdown",
   "id": "c3e5f7c2-d920-4a33-a13d-2b96e8cee361",
   "metadata": {},
   "source": [
    "PART I"
   ]
  },
  {
   "cell_type": "markdown",
   "id": "d2c1d459-ccec-4c17-a8e3-9ef4f7aba49d",
   "metadata": {},
   "source": [
    "QUESTIONS \n",
    "Q1: Some of the facilities charge a fee to members, but some do not.\n",
    "Write a SQL query to produce a list of the names of the facilities that do. "
   ]
  },
  {
   "cell_type": "code",
   "execution_count": null,
   "id": "edd42046-2d46-4c1e-b75d-bb0b71c89c47",
   "metadata": {},
   "outputs": [],
   "source": [
    "SELECT name\n",
    "FROM Facilities\n",
    "WHERE membercost > 0;"
   ]
  },
  {
   "cell_type": "markdown",
   "id": "34a4bb34-fc94-4b39-842e-81aed7a97c0a",
   "metadata": {},
   "source": [
    "Q2: How many facilities do not charge a fee to members? "
   ]
  },
  {
   "cell_type": "code",
   "execution_count": null,
   "id": "c424673d-9ce6-4604-b691-77af6b7146b3",
   "metadata": {},
   "outputs": [],
   "source": [
    "SELECT COUNT(*)\n",
    "FROM Facilities\n",
    "WHERE membercost = 0;"
   ]
  },
  {
   "cell_type": "markdown",
   "id": "0a298c07-4a78-424d-9442-0e0ea1ee244c",
   "metadata": {},
   "source": [
    "Q3: Write an SQL query to show a list of facilities that charge a fee to members,\n",
    "where the fee is less than 20% of the facility's monthly maintenance cost.\n",
    "Return the facid, facility name, member cost, and monthly maintenance of the\n",
    "facilities in question. "
   ]
  },
  {
   "cell_type": "code",
   "execution_count": null,
   "id": "cf99337c-3d46-4a1a-9765-85426bb7de15",
   "metadata": {},
   "outputs": [],
   "source": [
    "SELECT facid, name AS facility_name, membercost, monthlymaintenance\n",
    "FROM Facilities\n",
    "WHERE membercost > 0\n",
    "AND membercost < 0.2 * monthlymaintenance;"
   ]
  },
  {
   "cell_type": "markdown",
   "id": "9724a633-919e-4c3a-ab90-271e82b52417",
   "metadata": {},
   "source": [
    "Q4: Write an SQL query to retrieve the details of facilities with ID 1 and 5.\n",
    "Try writing the query without using the OR operator. "
   ]
  },
  {
   "cell_type": "code",
   "execution_count": null,
   "id": "75d965a2-4c5e-4479-89ff-5dd8f71acda4",
   "metadata": {},
   "outputs": [],
   "source": [
    "SELECT *\n",
    "FROM Facilities\n",
    "WHERE facid IN (1, 5);"
   ]
  },
  {
   "cell_type": "markdown",
   "id": "bb96f44b-6ab2-4f49-a596-8813bf5450c8",
   "metadata": {},
   "source": [
    "Q5: Produce a list of facilities, with each labelled as\n",
    "'cheap' or 'expensive', depending on if their monthly maintenance cost is\n",
    "more than $100. Return the name and monthly maintenance of the facilities\n",
    "in question. "
   ]
  },
  {
   "cell_type": "code",
   "execution_count": null,
   "id": "397a5038-05c6-4db5-9db7-be988e141262",
   "metadata": {},
   "outputs": [],
   "source": [
    "SELECT name AS facility_name,\n",
    "       CASE WHEN monthlymaintenance > 100 THEN 'expensive'\n",
    "            ELSE 'cheap' END AS label\n",
    "FROM Facilities;"
   ]
  },
  {
   "cell_type": "markdown",
   "id": "d758e389-e4dd-49a4-b940-8d975c92634e",
   "metadata": {},
   "source": [
    "Q6: You'd like to get the first and last name of the last member(s)\n",
    "who signed up. Try not to use the LIMIT clause for your solution. "
   ]
  },
  {
   "cell_type": "code",
   "execution_count": null,
   "id": "0f57bdb3-0804-4c4f-bd06-a49473a61a89",
   "metadata": {},
   "outputs": [],
   "source": [
    "SELECT firstname, surname\n",
    "FROM Members\n",
    "WHERE joindate = (SELECT MAX(joindate) FROM Members);"
   ]
  },
  {
   "cell_type": "markdown",
   "id": "a47896c2-0348-4e4a-97ab-f3e8b5befd40",
   "metadata": {},
   "source": [
    "Q7: Produce a list of all members who have used a tennis court.\n",
    "Include in your output the name of the court, and the name of the member\n",
    "formatted as a single column. Ensure no duplicate data, and order by\n",
    "the member name."
   ]
  },
  {
   "cell_type": "code",
   "execution_count": null,
   "id": "f6eea368-8156-4831-b0d4-d9667639dd39",
   "metadata": {},
   "outputs": [],
   "source": [
    "SELECT DISTINCT CONCAT(firstname, ' ', surname) AS member_name,\n",
    "       name AS tennis_court\n",
    "FROM Members\n",
    "JOIN Bookings ON Members.memid = Bookings.memid\n",
    "JOIN Facilities ON Bookings.facid = Facilities.facid\n",
    "WHERE Facilities.name LIKE 'Tennis Court%'\n",
    "ORDER BY member_name;"
   ]
  },
  {
   "cell_type": "markdown",
   "id": "f9a0abe8-4e5a-4dae-b9d0-73b333031e2b",
   "metadata": {},
   "source": [
    "Q8: Produce a list of bookings on the day of 2012-09-14 which\n",
    "will cost the member (or guest) more than $30. Remember that guests have\n",
    "different costs to members (the listed costs are per half-hour 'slot'), and\n",
    "the guest user's ID is always 0. Include in your output the name of the\n",
    "facility, the name of the member formatted as a single column, and the cost.\n",
    "Order by descending cost, and do not use any subqueries. "
   ]
  },
  {
   "cell_type": "code",
   "execution_count": null,
   "id": "6649bdde-19f8-46ec-9df9-f9e251c6bfb5",
   "metadata": {},
   "outputs": [],
   "source": [
    "SELECT Facilities.name AS facility_name,\n",
    "       CONCAT(Members.firstname, ' ', Members.surname) AS member_name,\n",
    "       CASE WHEN Members.memid = 0 THEN Facilities.guestcost * Bookings.slots\n",
    "            ELSE Facilities.membercost * Bookings.slots END AS cost\n",
    "FROM Bookings\n",
    "JOIN Members ON Bookings.memid = Members.memid\n",
    "JOIN Facilities ON Bookings.facid = Facilities.facid\n",
    "WHERE starttime LIKE '2012-09-14%'\n",
    "AND cost > 30\n",
    "ORDER BY cost DESC;"
   ]
  },
  {
   "cell_type": "markdown",
   "id": "04206c91-f27c-4207-9d83-5870e14f59a7",
   "metadata": {},
   "source": [
    "Q9: This time, produce the same result as in Q8, but using a subquery. "
   ]
  },
  {
   "cell_type": "code",
   "execution_count": null,
   "id": "4ae14177-8622-4d11-841d-0baa2d008d26",
   "metadata": {},
   "outputs": [],
   "source": [
    "SELECT facility_name, member_name, cost\n",
    "FROM (\n",
    "    SELECT Facilities.name AS facility_name,\n",
    "           CONCAT(Members.firstname, ' ', Members.surname) AS member_name,\n",
    "           CASE WHEN Members.memid = 0 THEN Facilities.guestcost * Bookings.slots\n",
    "                ELSE Facilities.membercost * Bookings.slots END AS cost\n",
    "    FROM Bookings\n",
    "    JOIN Members ON Bookings.memid = Members.memid\n",
    "    JOIN Facilities ON Bookings.facid = Facilities.facid\n",
    "    WHERE starttime LIKE '2012-09-14%'\n",
    ") AS bookings_cost\n",
    "WHERE cost > 30\n",
    "ORDER BY cost DESC;"
   ]
  },
  {
   "cell_type": "markdown",
   "id": "8c81ae9e-a8d6-468e-93a1-147a664bff92",
   "metadata": {},
   "source": [
    "PART II"
   ]
  },
  {
   "cell_type": "code",
   "execution_count": 6,
   "id": "9ffb6d21-e670-4028-8917-b9c78800117c",
   "metadata": {},
   "outputs": [
    {
     "name": "stdout",
     "output_type": "stream",
     "text": [
      "2.6.0\n",
      "2. Query all tasks\n",
      "(0, 'Tennis Court 1', 5, 25, 10000, 200)\n",
      "(1, 'Tennis Court 2', 5, 25, 8000, 200)\n",
      "(2, 'Badminton Court', 0, 15.5, 4000, 50)\n",
      "(3, 'Table Tennis', 0, 5, 320, 10)\n",
      "(4, 'Massage Room 1', 9.9, 80, 4000, 3000)\n",
      "(5, 'Massage Room 2', 9.9, 80, 4000, 3000)\n",
      "(6, 'Squash Court', 3.5, 17.5, 5000, 80)\n",
      "(7, 'Snooker Table', 0, 5, 450, 15)\n",
      "(8, 'Pool Table', 0, 5, 400, 15)\n"
     ]
    }
   ],
   "source": [
    "import sqlite3\n",
    "from sqlite3 import Error\n",
    "\n",
    " \n",
    "def create_connection(db_file):\n",
    "    \"\"\" create a database connection to the SQLite database\n",
    "        specified by the db_file\n",
    "    :param db_file: database file\n",
    "    :return: Connection object or None\n",
    "    \"\"\"\n",
    "    conn = None\n",
    "    try:\n",
    "        conn = sqlite3.connect(db_file)\n",
    "        print(sqlite3.version)\n",
    "    except Error as e:\n",
    "        print(e)\n",
    " \n",
    "    return conn\n",
    "\n",
    " \n",
    "def select_all_tasks(conn):\n",
    "    \"\"\"\n",
    "    Query all rows in the tasks table\n",
    "    :param conn: the Connection object\n",
    "    :return:\n",
    "    \"\"\"\n",
    "    cur = conn.cursor()\n",
    "    \n",
    "    query1 = \"\"\"\n",
    "        SELECT *\n",
    "        FROM FACILITIES\n",
    "        \"\"\"\n",
    "    cur.execute(query1)\n",
    " \n",
    "    rows = cur.fetchall()\n",
    " \n",
    "    for row in rows:\n",
    "        print(row)\n",
    "\n",
    "\n",
    "def main():\n",
    "    database = \"sqlite_db_pythonsqlite.db\"\n",
    " \n",
    "    # create a database connection\n",
    "    conn = create_connection(database)\n",
    "    with conn: \n",
    "        print(\"2. Query all tasks\")\n",
    "        select_all_tasks(conn)\n",
    " \n",
    " \n",
    "if __name__ == '__main__':\n",
    "    main()"
   ]
  },
  {
   "cell_type": "markdown",
   "id": "b14447b5-9d62-47ef-8fad-d95af1c7a045",
   "metadata": {},
   "source": [
    "QUESTIONS:\n",
    "\n",
    "Q10: Produce a list of facilities with a total revenue less than 1000.\n",
    "The output of facility name and total revenue, sorted by revenue. Remember\n",
    "that there's a different cost for guests and members!"
   ]
  },
  {
   "cell_type": "code",
   "execution_count": 8,
   "id": "94a3a4e3-a954-4f77-970b-4cd3436043e5",
   "metadata": {},
   "outputs": [
    {
     "name": "stdout",
     "output_type": "stream",
     "text": [
      "2.6.0\n",
      "Facilities with revenue less than 1000:\n",
      "('Table Tennis', 180)\n",
      "('Snooker Table', 240)\n",
      "('Pool Table', 270)\n"
     ]
    }
   ],
   "source": [
    "def select_facilities_with_revenue_less_than_1000(conn):\n",
    "    \"\"\"\n",
    "    Query facilities with a total revenue less than 1000\n",
    "    :param conn: the Connection object\n",
    "    :return: rows with facility name and total revenue\n",
    "    \"\"\"\n",
    "    cur = conn.cursor()\n",
    "    \n",
    "    query = \"\"\"\n",
    "        SELECT \n",
    "            name AS facility_name,\n",
    "            SUM(\n",
    "                CASE WHEN memid = 0 THEN guestcost * slots\n",
    "                     ELSE membercost * slots END\n",
    "            ) AS total_revenue\n",
    "        FROM Bookings\n",
    "        JOIN Facilities ON Bookings.facid = Facilities.facid\n",
    "        GROUP BY name\n",
    "        HAVING total_revenue < 1000\n",
    "        ORDER BY total_revenue;\n",
    "        \"\"\"\n",
    "    cur.execute(query)\n",
    " \n",
    "    rows = cur.fetchall()\n",
    " \n",
    "    for row in rows:\n",
    "        print(row)\n",
    "\n",
    "def main():\n",
    "    database = \"sqlite_db_pythonsqlite.db\"\n",
    " \n",
    "    # create a database connection\n",
    "    conn = create_connection(database)\n",
    "    with conn: \n",
    "        print(\"Facilities with revenue less than 1000:\")\n",
    "        select_facilities_with_revenue_less_than_1000(conn)\n",
    " \n",
    "if __name__ == '__main__':\n",
    "    main()\n"
   ]
  },
  {
   "cell_type": "markdown",
   "id": "1a7bf9b5-a74c-4d11-92e3-8434389885a3",
   "metadata": {},
   "source": [
    "Q11: Produce a report of members and who recommended them in alphabetic surname,firstname order"
   ]
  },
  {
   "cell_type": "code",
   "execution_count": 9,
   "id": "d809510c-4eff-4c2f-ac2b-98909ed54834",
   "metadata": {},
   "outputs": [
    {
     "name": "stdout",
     "output_type": "stream",
     "text": [
      "Members and Recommendations Report:\n",
      "('Bader, Florence', 'Stibbons, Ponder')\n",
      "('Baker, Anne', 'Stibbons, Ponder')\n",
      "('Baker, Timothy', 'Farrell, Jemima')\n",
      "('Boothe, Tim', 'Rownam, Tim')\n",
      "('Butters, Gerald', 'Smith, Darren')\n",
      "('Coplin, Joan', 'Baker, Timothy')\n",
      "('Crumpet, Erica', 'Smith, Tracy')\n",
      "('Dare, Nancy', 'Joplette, Janice')\n",
      "('Farrell, David', None)\n",
      "('Farrell, Jemima', None)\n",
      "('GUEST, GUEST', None)\n",
      "('Genting, Matthew', 'Butters, Gerald')\n",
      "('Hunt, John', 'Purview, Millicent')\n",
      "('Jones, David', 'Joplette, Janice')\n",
      "('Jones, Douglas', 'Jones, David')\n",
      "('Joplette, Janice', 'Smith, Darren')\n",
      "('Mackenzie, Anna', 'Smith, Darren')\n",
      "('Owen, Charles', 'Smith, Darren')\n",
      "('Pinker, David', 'Farrell, Jemima')\n",
      "('Purview, Millicent', 'Smith, Tracy')\n",
      "('Rownam, Tim', None)\n",
      "('Rumney, Henrietta', 'Genting, Matthew')\n",
      "('Sarwin, Ramnaresh', 'Bader, Florence')\n",
      "('Smith, Darren', None)\n",
      "('Smith, Darren', None)\n",
      "('Smith, Jack', 'Smith, Darren')\n",
      "('Smith, Tracy', None)\n",
      "('Stibbons, Ponder', 'Tracy, Burton')\n",
      "('Tracy, Burton', None)\n",
      "('Tupperware, Hyacinth', None)\n",
      "('Worthington-Smyth, Henry', 'Smith, Tracy')\n"
     ]
    }
   ],
   "source": [
    "import sqlite3\n",
    "\n",
    "def create_connection(db_file):\n",
    "    \"\"\"Create a database connection to the SQLite database specified by the db_file.\"\"\"\n",
    "    conn = None\n",
    "    try:\n",
    "        conn = sqlite3.connect(db_file)\n",
    "    except Error as e:\n",
    "        print(e)\n",
    "    return conn\n",
    "\n",
    "def members_and_recommendations_report(conn):\n",
    "    \"\"\"Produce a report of members and who recommended them in alphabetic surname, firstname order.\"\"\"\n",
    "    query = \"\"\"\n",
    "        SELECT m1.surname || ', ' || m1.firstname AS member_name,\n",
    "               m2.surname || ', ' || m2.firstname AS recommended_by\n",
    "        FROM Members AS m1\n",
    "        LEFT JOIN Members AS m2 ON m1.recommendedby = m2.memid\n",
    "        ORDER BY m1.surname, m1.firstname;\n",
    "    \"\"\"\n",
    "    cur = conn.cursor()\n",
    "    cur.execute(query)\n",
    "    rows = cur.fetchall()\n",
    "    for row in rows:\n",
    "        print(row)\n",
    "\n",
    "def main():\n",
    "    database = \"sqlite_db_pythonsqlite.db\"  \n",
    "    conn = create_connection(database)\n",
    "    with conn:\n",
    "        print(\"Members and Recommendations Report:\")\n",
    "        members_and_recommendations_report(conn)\n",
    "\n",
    "if __name__ == '__main__':\n",
    "    main()\n"
   ]
  },
  {
   "cell_type": "markdown",
   "id": "4235746d-9b02-479a-8c25-b3309ed6e127",
   "metadata": {},
   "source": [
    "Q12: Find the facilities with their usage by member, but not guests"
   ]
  },
  {
   "cell_type": "code",
   "execution_count": 10,
   "id": "85e4ede9-e6a8-4d6b-9fd6-d5f28bbffcba",
   "metadata": {},
   "outputs": [
    {
     "name": "stdout",
     "output_type": "stream",
     "text": [
      "Facilities usage by member only:\n",
      "('Badminton Court', 344)\n",
      "('Massage Room 1', 421)\n",
      "('Massage Room 2', 27)\n",
      "('Pool Table', 783)\n",
      "('Snooker Table', 421)\n",
      "('Squash Court', 195)\n",
      "('Table Tennis', 385)\n",
      "('Tennis Court 1', 308)\n",
      "('Tennis Court 2', 276)\n"
     ]
    }
   ],
   "source": [
    "import sqlite3\n",
    "\n",
    "def create_connection(db_file):\n",
    "    \"\"\"Create a database connection to the SQLite database specified by the db_file.\"\"\"\n",
    "    conn = None\n",
    "    try:\n",
    "        conn = sqlite3.connect(db_file)\n",
    "    except Error as e:\n",
    "        print(e)\n",
    "    return conn\n",
    "\n",
    "def facilities_usage_by_member_only(conn):\n",
    "    \"\"\"Find the facilities with their usage by member, but not guests.\"\"\"\n",
    "    query = \"\"\"\n",
    "        SELECT f.name AS facility_name,\n",
    "               COUNT(b.bookid) AS usage_by_member\n",
    "        FROM Facilities AS f\n",
    "        JOIN Bookings AS b ON f.facid = b.facid\n",
    "        WHERE b.memid != 0\n",
    "        GROUP BY facility_name;\n",
    "    \"\"\"\n",
    "    cur = conn.cursor()\n",
    "    cur.execute(query)\n",
    "    rows = cur.fetchall()\n",
    "    for row in rows:\n",
    "        print(row)\n",
    "\n",
    "def main():\n",
    "    database = \"sqlite_db_pythonsqlite.db\"  \n",
    "    conn = create_connection(database)\n",
    "    with conn:\n",
    "        print(\"Facilities usage by member only:\")\n",
    "        facilities_usage_by_member_only(conn)\n",
    "\n",
    "if __name__ == '__main__':\n",
    "    main()\n"
   ]
  },
  {
   "cell_type": "markdown",
   "id": "20bc647f-c17f-4cac-a846-50841d943b7c",
   "metadata": {},
   "source": [
    "Q13: Find the facilities usage by month, but not guests"
   ]
  },
  {
   "cell_type": "code",
   "execution_count": 11,
   "id": "103f69b5-645b-4317-958f-9fabb173b45e",
   "metadata": {},
   "outputs": [
    {
     "name": "stdout",
     "output_type": "stream",
     "text": [
      "Facilities usage by month (excluding guests):\n",
      "('Badminton Court', '07', 51)\n",
      "('Badminton Court', '08', 132)\n",
      "('Badminton Court', '09', 161)\n",
      "('Massage Room 1', '07', 77)\n",
      "('Massage Room 1', '08', 153)\n",
      "('Massage Room 1', '09', 191)\n",
      "('Massage Room 2', '07', 4)\n",
      "('Massage Room 2', '08', 9)\n",
      "('Massage Room 2', '09', 14)\n",
      "('Pool Table', '07', 103)\n",
      "('Pool Table', '08', 272)\n",
      "('Pool Table', '09', 408)\n",
      "('Snooker Table', '07', 68)\n",
      "('Snooker Table', '08', 154)\n",
      "('Snooker Table', '09', 199)\n",
      "('Squash Court', '07', 23)\n",
      "('Squash Court', '08', 85)\n",
      "('Squash Court', '09', 87)\n",
      "('Table Tennis', '07', 48)\n",
      "('Table Tennis', '08', 143)\n",
      "('Table Tennis', '09', 194)\n",
      "('Tennis Court 1', '07', 65)\n",
      "('Tennis Court 1', '08', 111)\n",
      "('Tennis Court 1', '09', 132)\n",
      "('Tennis Court 2', '07', 41)\n",
      "('Tennis Court 2', '08', 109)\n",
      "('Tennis Court 2', '09', 126)\n"
     ]
    }
   ],
   "source": [
    "import sqlite3\n",
    "\n",
    "def create_connection(db_file):\n",
    "    \"\"\"Create a database connection to the SQLite database specified by the db_file.\"\"\"\n",
    "    conn = None\n",
    "    try:\n",
    "        conn = sqlite3.connect(db_file)\n",
    "    except Error as e:\n",
    "        print(e)\n",
    "    return conn\n",
    "\n",
    "def facilities_usage_by_month(conn):\n",
    "    \"\"\"Find the facilities usage by month, but not guests.\"\"\"\n",
    "    query = \"\"\"\n",
    "        SELECT f.name AS facility_name,\n",
    "               strftime('%m', starttime) AS month,\n",
    "               COUNT(b.bookid) AS usage_count\n",
    "        FROM Bookings AS b\n",
    "        JOIN Facilities AS f ON b.facid = f.facid\n",
    "        WHERE b.memid != 0\n",
    "        GROUP BY facility_name, month;\n",
    "    \"\"\"\n",
    "    cur = conn.cursor()\n",
    "    cur.execute(query)\n",
    "    rows = cur.fetchall()\n",
    "    for row in rows:\n",
    "        print(row)\n",
    "\n",
    "def main():\n",
    "    database = \"sqlite_db_pythonsqlite.db\"  \n",
    "    conn = create_connection(database)\n",
    "    with conn:\n",
    "        print(\"Facilities usage by month (excluding guests):\")\n",
    "        facilities_usage_by_month(conn)\n",
    "\n",
    "if __name__ == '__main__':\n",
    "    main()\n"
   ]
  },
  {
   "cell_type": "code",
   "execution_count": null,
   "id": "50defd22-2208-4c92-8bd5-48588e4de442",
   "metadata": {},
   "outputs": [],
   "source": []
  }
 ],
 "metadata": {
  "kernelspec": {
   "display_name": "firstEnv",
   "language": "python",
   "name": "firstenv"
  },
  "language_info": {
   "codemirror_mode": {
    "name": "ipython",
    "version": 3
   },
   "file_extension": ".py",
   "mimetype": "text/x-python",
   "name": "python",
   "nbconvert_exporter": "python",
   "pygments_lexer": "ipython3",
   "version": "3.11.7"
  }
 },
 "nbformat": 4,
 "nbformat_minor": 5
}
